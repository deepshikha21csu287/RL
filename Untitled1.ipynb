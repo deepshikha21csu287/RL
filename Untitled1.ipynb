{
  "nbformat": 4,
  "nbformat_minor": 0,
  "metadata": {
    "colab": {
      "provenance": [],
      "authorship_tag": "ABX9TyOO+B+T0TAx3ZACP9/lmtTt",
      "include_colab_link": true
    },
    "kernelspec": {
      "name": "python3",
      "display_name": "Python 3"
    },
    "language_info": {
      "name": "python"
    }
  },
  "cells": [
    {
      "cell_type": "markdown",
      "metadata": {
        "id": "view-in-github",
        "colab_type": "text"
      },
      "source": [
        "<a href=\"https://colab.research.google.com/github/deepshikha21csu287/RL/blob/main/Untitled1.ipynb\" target=\"_parent\"><img src=\"https://colab.research.google.com/assets/colab-badge.svg\" alt=\"Open In Colab\"/></a>"
      ]
    },
    {
      "cell_type": "code",
      "execution_count": 8,
      "metadata": {
        "id": "ulwWteDlAPYF",
        "outputId": "43141770-ada4-41ba-9ccb-ac71a5893865",
        "colab": {
          "base_uri": "https://localhost:8080/"
        }
      },
      "outputs": [
        {
          "output_type": "stream",
          "name": "stdout",
          "text": [
            "0\n",
            "1\n",
            "1\n",
            "-1\n",
            "False\n",
            "True\n"
          ]
        }
      ],
      "source": [
        "a=0\n",
        "b=1\n",
        "print(a&b)\n",
        "print(a|b)\n",
        "print(a+b)\n",
        "print(a-b)\n",
        "x=True\n",
        "y=False\n",
        "print(x and y)\n",
        "print(x or y)\n",
        "\n"
      ]
    },
    {
      "cell_type": "code",
      "source": [
        "print(type (x))\n",
        "print(type(a))"
      ],
      "metadata": {
        "id": "0Th-Z-PJFOMf",
        "outputId": "ef738aa6-55a8-4271-f525-03f04d5d0572",
        "colab": {
          "base_uri": "https://localhost:8080/"
        }
      },
      "execution_count": 9,
      "outputs": [
        {
          "output_type": "stream",
          "name": "stdout",
          "text": [
            "<class 'bool'>\n",
            "<class 'int'>\n"
          ]
        }
      ]
    },
    {
      "cell_type": "code",
      "source": [
        "s='deepshikhaaaaaaaaaaa'\n",
        "print(len(s))"
      ],
      "metadata": {
        "id": "WkE9AgnbFd8S",
        "outputId": "98810a56-1746-4e4c-9d84-10346972bc9a",
        "colab": {
          "base_uri": "https://localhost:8080/"
        }
      },
      "execution_count": 11,
      "outputs": [
        {
          "output_type": "stream",
          "name": "stdout",
          "text": [
            "20\n"
          ]
        }
      ]
    },
    {
      "cell_type": "code",
      "source": [
        "hello=\"hello\"\n",
        "world=\"world\"\n",
        "system='{}{}{}'.format(hello,world,1234)\n",
        "print(system)"
      ],
      "metadata": {
        "id": "YiGP3LxrF7PS",
        "outputId": "3c2274b5-4744-44c5-e051-fb6c1673f920",
        "colab": {
          "base_uri": "https://localhost:8080/"
        }
      },
      "execution_count": 14,
      "outputs": [
        {
          "output_type": "stream",
          "name": "stdout",
          "text": [
            "helloworld1234\n"
          ]
        }
      ]
    },
    {
      "cell_type": "code",
      "source": [
        "s=\"hello\"\n",
        "print(s.capitalize())\n",
        "print(s.upper())\n",
        "print(s.rjust(7))\n",
        "print(s.center(7))\n",
        "print(s.replace('l','(ell)'))\n",
        "print('world'.strip())"
      ],
      "metadata": {
        "id": "nP0W1fI1HUqJ",
        "outputId": "4c4e89d7-32aa-4223-cfbd-bc02ac2f69e2",
        "colab": {
          "base_uri": "https://localhost:8080/"
        }
      },
      "execution_count": 16,
      "outputs": [
        {
          "output_type": "stream",
          "name": "stdout",
          "text": [
            "Hello\n",
            "HELLO\n",
            "  hello\n",
            " hello \n",
            "he(ell)(ell)o\n",
            "world\n"
          ]
        }
      ]
    },
    {
      "cell_type": "markdown",
      "source": [],
      "metadata": {
        "id": "FWm9XHKSKcdM"
      }
    },
    {
      "cell_type": "markdown",
      "source": [
        "CONTAINERS  List"
      ],
      "metadata": {
        "id": "deG4hM8mKbRn"
      }
    },
    {
      "cell_type": "code",
      "source": [
        "xs=[3,1,2]\n",
        "print(xs,xs[2])\n",
        "print(xs[-1])\n",
        "xs[2]='foo'\n",
        "print(xs)\n",
        "xs.append('bar')\n",
        "print(xs)\n",
        "x=xs.pop()\n",
        "print(x,xs)"
      ],
      "metadata": {
        "id": "M0zEMcnEI_uC",
        "outputId": "e458adc9-8f38-46c6-b2b7-2061b9a9cc57",
        "colab": {
          "base_uri": "https://localhost:8080/"
        }
      },
      "execution_count": 19,
      "outputs": [
        {
          "output_type": "stream",
          "name": "stdout",
          "text": [
            "[3, 1, 2] 2\n",
            "2\n",
            "[3, 1, 'foo']\n",
            "[3, 1, 'foo', 'bar']\n",
            "bar [3, 1, 'foo']\n"
          ]
        }
      ]
    },
    {
      "cell_type": "markdown",
      "source": [
        "Slicing"
      ],
      "metadata": {
        "id": "yLv_q0MdKtxK"
      }
    },
    {
      "cell_type": "code",
      "source": [
        "nums=list(range(5))\n",
        "print(nums)\n",
        "print(nums[2:4])\n",
        "print(nums[2:])\n",
        "print(nums[:2])\n",
        "print(nums[:])\n",
        "print(nums[:-1])\n",
        "nums[2:4]=[8,9]\n",
        "print(nums)"
      ],
      "metadata": {
        "id": "dwrdoZvSKZLd",
        "outputId": "8d54cb13-99c4-46e8-ddc9-80909cc1274e",
        "colab": {
          "base_uri": "https://localhost:8080/"
        }
      },
      "execution_count": 20,
      "outputs": [
        {
          "output_type": "stream",
          "name": "stdout",
          "text": [
            "[0, 1, 2, 3, 4]\n",
            "[2, 3]\n",
            "[2, 3, 4]\n",
            "[0, 1]\n",
            "[0, 1, 2, 3, 4]\n",
            "[0, 1, 2, 3]\n",
            "[0, 1, 8, 9, 4]\n"
          ]
        }
      ]
    },
    {
      "cell_type": "markdown",
      "source": [
        "Loops"
      ],
      "metadata": {
        "id": "x5cRx4XMMIyq"
      }
    },
    {
      "cell_type": "code",
      "source": [
        "for i in range(0,5):\n",
        "  print(i)\n",
        "while(i>0):\n",
        "  print(i)\n",
        "  i=i-1"
      ],
      "metadata": {
        "id": "RIOwN5OMMKZF",
        "outputId": "2e1241e6-7e78-4532-fe88-e5d10295e1ee",
        "colab": {
          "base_uri": "https://localhost:8080/"
        }
      },
      "execution_count": 22,
      "outputs": [
        {
          "output_type": "stream",
          "name": "stdout",
          "text": [
            "0\n",
            "1\n",
            "2\n",
            "3\n",
            "4\n",
            "4\n",
            "3\n",
            "2\n",
            "1\n"
          ]
        }
      ]
    },
    {
      "cell_type": "markdown",
      "source": [
        "loop"
      ],
      "metadata": {
        "id": "bzaH7lC-ORt6"
      }
    },
    {
      "cell_type": "code",
      "source": [
        "animals=['cat','dog','monkey']\n",
        "for idx,animal in enumerate(animals):\n",
        "  print('#{}: {}'.format(idx+1,animal))"
      ],
      "metadata": {
        "id": "jsVtbkXsNLRr",
        "outputId": "127df30c-96c8-4a35-a383-176d23107d60",
        "colab": {
          "base_uri": "https://localhost:8080/"
        }
      },
      "execution_count": 24,
      "outputs": [
        {
          "output_type": "stream",
          "name": "stdout",
          "text": [
            "#1: cat\n",
            "#2: dog\n",
            "#3: monkey\n"
          ]
        }
      ]
    },
    {
      "cell_type": "code",
      "source": [],
      "metadata": {
        "id": "BMD35LE3OOKw"
      },
      "execution_count": null,
      "outputs": []
    },
    {
      "cell_type": "markdown",
      "source": [
        "Square"
      ],
      "metadata": {
        "id": "cV3PF3z-KYQ5"
      }
    },
    {
      "cell_type": "code",
      "source": [
        "nums=[0,1,2,3,4]\n",
        "squares= [x**2 for x in nums]\n",
        "print(squares)"
      ],
      "metadata": {
        "id": "zehy0_1ROgFM",
        "outputId": "3216e6cc-3236-430a-e775-17693b8328b3",
        "colab": {
          "base_uri": "https://localhost:8080/"
        }
      },
      "execution_count": 25,
      "outputs": [
        {
          "output_type": "stream",
          "name": "stdout",
          "text": [
            "[0, 1, 4, 9, 16]\n"
          ]
        }
      ]
    },
    {
      "cell_type": "code",
      "source": [
        "nums=[3,4,7,6,9]\n",
        "even_squares=[x**2 for x in nums if x%2==0]\n",
        "print(even_squares)"
      ],
      "metadata": {
        "id": "QXgyBDz9Oxwr",
        "outputId": "597c9466-a25b-4483-b79c-5a422f6305b7",
        "colab": {
          "base_uri": "https://localhost:8080/"
        }
      },
      "execution_count": 27,
      "outputs": [
        {
          "output_type": "stream",
          "name": "stdout",
          "text": [
            "[16, 36]\n"
          ]
        }
      ]
    },
    {
      "cell_type": "markdown",
      "source": [],
      "metadata": {
        "id": "4fvTVu-5FNrx"
      }
    }
  ]
}